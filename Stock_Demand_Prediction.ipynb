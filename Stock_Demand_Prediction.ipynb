{
 "cells": [
  {
   "cell_type": "markdown",
   "id": "257a1e16",
   "metadata": {},
   "source": [
    "# 📊 Stock Demand Prediction for TradeEasy Distributors\n",
    "\n",
    "This notebook develops a regression model to forecast stock requirements using historical data."
   ]
  },
  {
   "cell_type": "code",
   "execution_count": null,
   "id": "8828c17d",
   "metadata": {},
   "outputs": [],
   "source": [
    "import pandas as pd\n",
    "import numpy as np\n",
    "import matplotlib.pyplot as plt\n",
    "import seaborn as sns\n",
    "\n",
    "from sklearn.model_selection import train_test_split\n",
    "from sklearn.linear_model import LinearRegression\n",
    "from sklearn.metrics import mean_absolute_error, mean_squared_error\n"
   ]
  },
  {
   "cell_type": "code",
   "execution_count": null,
   "id": "dfdbcb65",
   "metadata": {},
   "outputs": [],
   "source": [
    "# 📁 Load your dataset here (update file name if needed)\n",
    "file_path = '/content/sample_stock_data.csv'  # <- Change this to your file name\n",
    "df = pd.read_csv(file_path)\n",
    "df.head()\n"
   ]
  },
  {
   "cell_type": "code",
   "execution_count": null,
   "id": "9d23c3f1",
   "metadata": {},
   "outputs": [],
   "source": [
    "# 🧼 Handle missing values\n",
    "df.fillna(method='ffill', inplace=True)\n",
    "\n",
    "# 🗓️ Convert date column if exists\n",
    "if 'Date' in df.columns:\n",
    "    df['Date'] = pd.to_datetime(df['Date'])\n",
    "    df['Month'] = df['Date'].dt.month\n",
    "    df['Year'] = df['Date'].dt.year\n"
   ]
  },
  {
   "cell_type": "code",
   "execution_count": null,
   "id": "5cdcdbf6",
   "metadata": {},
   "outputs": [],
   "source": [
    "# 🔢 One-hot encode categorical features\n",
    "if 'Product_Category' in df.columns:\n",
    "    df = pd.get_dummies(df, columns=['Product_Category'], drop_first=True)\n"
   ]
  },
  {
   "cell_type": "code",
   "execution_count": null,
   "id": "d3c096aa",
   "metadata": {},
   "outputs": [],
   "source": [
    "# 🎯 Define X and y\n",
    "X = df.drop(['Demand'], axis=1)\n",
    "y = df['Demand']\n"
   ]
  },
  {
   "cell_type": "code",
   "execution_count": null,
   "id": "39dba9f3",
   "metadata": {},
   "outputs": [],
   "source": [
    "# 🔀 Train-test split\n",
    "X_train, X_test, y_train, y_test = train_test_split(X, y, test_size=0.2, random_state=42)\n"
   ]
  },
  {
   "cell_type": "code",
   "execution_count": null,
   "id": "e4e3201b",
   "metadata": {},
   "outputs": [],
   "source": [
    "# 🤖 Train a linear regression model\n",
    "model = LinearRegression()\n",
    "model.fit(X_train, y_train)\n"
   ]
  },
  {
   "cell_type": "code",
   "execution_count": null,
   "id": "60725e79",
   "metadata": {},
   "outputs": [],
   "source": [
    "# 📈 Predict and evaluate\n",
    "y_pred = model.predict(X_test)\n",
    "mae = mean_absolute_error(y_test, y_pred)\n",
    "rmse = np.sqrt(mean_squared_error(y_test, y_pred))\n",
    "\n",
    "print(f\"MAE: {mae:.2f}\")\n",
    "print(f\"RMSE: {rmse:.2f}\")\n"
   ]
  },
  {
   "cell_type": "code",
   "execution_count": null,
   "id": "11665e0f",
   "metadata": {},
   "outputs": [],
   "source": [
    "# 📊 Visualization\n",
    "plt.figure(figsize=(10,6))\n",
    "plt.scatter(y_test, y_pred, alpha=0.7, color='blue')\n",
    "plt.xlabel('Actual Demand')\n",
    "plt.ylabel('Predicted Demand')\n",
    "plt.title('Actual vs Predicted Stock Demand')\n",
    "plt.grid(True)\n",
    "plt.show()\n"
   ]
  }
 ],
 "metadata": {},
 "nbformat": 4,
 "nbformat_minor": 5
}
